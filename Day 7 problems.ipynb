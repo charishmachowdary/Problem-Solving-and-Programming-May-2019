{
 "cells": [
  {
   "cell_type": "markdown",
   "metadata": {},
   "source": [
    "## Problem Solving And Programming\n",
    "### charishma.G\n",
    "### 221710308020\n",
    "### Day 7\n",
    "### 10-05-2019\n",
    "### Day Outcomes\n",
    "* Objective 1\n",
    "* Objective 2\n",
    "* Objective 3"
   ]
  },
  {
   "cell_type": "code",
   "execution_count": null,
   "metadata": {},
   "outputs": [],
   "source": []
  },
  {
   "cell_type": "markdown",
   "metadata": {},
   "source": [
    "## problem 1\n",
    "### problem statement\n",
    "\n",
    "Given an int n, return True if it is within 10 of 100 or 200. Note: abs(num) computes the absolute value of a number.\n",
    "### constraints\n",
    "### Test cases\n",
    "* near_hundred(93) → True\n",
    "* near_hundred(90) → True\n",
    "* near_hundred(89) → False"
   ]
  },
  {
   "cell_type": "code",
   "execution_count": 2,
   "metadata": {},
   "outputs": [
    {
     "name": "stdout",
     "output_type": "stream",
     "text": [
      "True\n",
      "True\n",
      "False\n"
     ]
    }
   ],
   "source": [
    "def near_hundred(n):\n",
    "    if((90<=n<=110) or (190<=n<=210)) :\n",
    "            return True\n",
    "    else:\n",
    "        return False\n",
    "    \n",
    "print(near_hundred(93))\n",
    "print(near_hundred(110))\n",
    "print(near_hundred(89))"
   ]
  },
  {
   "cell_type": "code",
   "execution_count": null,
   "metadata": {},
   "outputs": [],
   "source": []
  },
  {
   "cell_type": "markdown",
   "metadata": {},
   "source": [
    "## Problem 2\n",
    "### problem statement\n",
    "Procedure to print N natural numbers.\n",
    "### constraints\n",
    "### Test cases\n",
    "* Test case 1:naturalNum(21)\n",
    "* Test case 2:naturalNum(10)\n",
    "* Test case 3:naturalNum(14)"
   ]
  },
  {
   "cell_type": "code",
   "execution_count": 2,
   "metadata": {},
   "outputs": [
    {
     "name": "stdout",
     "output_type": "stream",
     "text": [
      "1\n",
      "2\n",
      "3\n",
      "4\n",
      "5\n",
      "6\n",
      "7\n",
      "8\n",
      "1\n",
      "2\n",
      "1\n",
      "2\n",
      "3\n",
      "4\n",
      "5\n"
     ]
    }
   ],
   "source": [
    "def naturalNum(n):\n",
    "    for i in range(1,n):\n",
    "        print(i)\n",
    "    return n\n",
    "\n",
    "print(naturalNum(8))\n",
    "print(naturalNum(2))\n",
    "print(naturalNum(5))"
   ]
  },
  {
   "cell_type": "code",
   "execution_count": null,
   "metadata": {},
   "outputs": [],
   "source": []
  },
  {
   "cell_type": "markdown",
   "metadata": {},
   "source": [
    "### problem 3\n",
    "### problem statement\n",
    "Procedure to calculate the factorial of a given number\n",
    "### constraints\n",
    "### Test cases\n",
    "* Test case 1:fact(5) -> 120\n",
    "* Test case 2:fact(3) -> 6\n",
    "* Test case 3:fact(6) -> 720"
   ]
  },
  {
   "cell_type": "code",
   "execution_count": 5,
   "metadata": {},
   "outputs": [
    {
     "name": "stdout",
     "output_type": "stream",
     "text": [
      "n= 10 fact= 3628800\n",
      "n= 20 fact= 2432902008176640000\n"
     ]
    }
   ],
   "source": [
    "def fact(n1):\n",
    "    f=1\n",
    "    for i in range(1,n1+1):\n",
    "        f=f*i\n",
    "    return f\n",
    "\n",
    "print(\"n=\",10,\"fact=\",fact(10))\n",
    "print(\"n=\",20,\"fact=\",fact(20))"
   ]
  },
  {
   "cell_type": "code",
   "execution_count": null,
   "metadata": {},
   "outputs": [],
   "source": []
  },
  {
   "cell_type": "markdown",
   "metadata": {},
   "source": [
    "### problem 4\n",
    "### problem statement\n",
    "Procedure to generate multiplication tables\n",
    "### constraints\n",
    "\n",
    "### Test cases\n",
    "\n",
    "Test case 1:MT(3, 5, 7) -> 3 X 5 = 15\n",
    "                       3 X 6 = 18\n",
    "                       3 X 7 = 21"
   ]
  },
  {
   "cell_type": "code",
   "execution_count": 7,
   "metadata": {},
   "outputs": [
    {
     "name": "stdout",
     "output_type": "stream",
     "text": [
      "3 x 5 = 15\n",
      "3 x 5 = 18\n",
      "3 x 5 = 21\n",
      " \n"
     ]
    }
   ],
   "source": [
    "def MT(n,lb,ub):\n",
    "    for i in range(lb,ub+1):\n",
    "        value=n*i\n",
    "        print(n,\"x\",lb,\"=\",value)\n",
    "    return \" \"\n",
    "\n",
    "print(MT(3,5,7))"
   ]
  },
  {
   "cell_type": "code",
   "execution_count": null,
   "metadata": {},
   "outputs": [],
   "source": []
  },
  {
   "cell_type": "markdown",
   "metadata": {},
   "source": [
    "### problem 5\n",
    "### problem statement\n",
    "Procedure to check if a given number is Prime and returns a Boolean value\n",
    "### constraints\n",
    "### Test cases\n",
    "* test case1. IsPrime(7) -> True\n",
    "* test case2. IsPrime(9) ->  False"
   ]
  },
  {
   "cell_type": "code",
   "execution_count": 9,
   "metadata": {},
   "outputs": [
    {
     "name": "stdout",
     "output_type": "stream",
     "text": [
      "True\n",
      "False\n"
     ]
    }
   ],
   "source": [
    "def IsPrime(n):\n",
    "    count=0\n",
    "    for i in range(2,n):\n",
    "        if(n%i==0):\n",
    "            count+=1\n",
    "    if(count==0):\n",
    "        return True\n",
    "    else:\n",
    "        return False\n",
    "    \n",
    "print(IsPrime(7))\n",
    "print(IsPrime(9))"
   ]
  },
  {
   "cell_type": "code",
   "execution_count": null,
   "metadata": {},
   "outputs": [],
   "source": []
  },
  {
   "cell_type": "markdown",
   "metadata": {},
   "source": [
    "### problem 6\n",
    "### problem solving\n",
    " Factorial of a given number as a procedure\n",
    " ### constraints\n",
    " ### Test cases\n",
    "* test case1. Factorial(5) -> 120\n",
    "* test case2. Factorial (6) -> 720"
   ]
  },
  {
   "cell_type": "code",
   "execution_count": null,
   "metadata": {},
   "outputs": [],
   "source": []
  },
  {
   "cell_type": "code",
   "execution_count": null,
   "metadata": {},
   "outputs": [],
   "source": []
  },
  {
   "cell_type": "markdown",
   "metadata": {},
   "source": [
    "### problem 7\n",
    "### problem statement\n",
    "Design a procedure to determine if a given string is a Palindrome\n",
    "### Test cases\n",
    "* Palindrome(\"racecar\") -> True\n",
    "* Palindrome(\"raptor\") -> False"
   ]
  },
  {
   "cell_type": "code",
   "execution_count": 23,
   "metadata": {},
   "outputs": [
    {
     "name": "stdout",
     "output_type": "stream",
     "text": [
      "True\n",
      "False\n"
     ]
    }
   ],
   "source": [
    "def palindrome(s):\n",
    "    rs=s[-1::-1]\n",
    "    if(s==rs):\n",
    "        return True\n",
    "    else:\n",
    "        return False\n",
    "print(palindrome(\"racecar\"))\n",
    "print(palindrome(\"raptor\"))\n"
   ]
  },
  {
   "cell_type": "code",
   "execution_count": null,
   "metadata": {},
   "outputs": [],
   "source": []
  },
  {
   "cell_type": "markdown",
   "metadata": {},
   "source": [
    "## problem 8\n",
    "### problem statement\n",
    "Design a procedure to calculate the squareroot of a number \"without using the math function sqrt\".\n",
    "### Test cases\n",
    "* Squareroot(36) -> 6\n",
    "* squareroot(25)->5"
   ]
  },
  {
   "cell_type": "code",
   "execution_count": 3,
   "metadata": {},
   "outputs": [
    {
     "name": "stdout",
     "output_type": "stream",
     "text": [
      "5.0\n",
      "6.0\n"
     ]
    }
   ],
   "source": [
    "def squareroot(n):\n",
    "    for i in range(1,n**2):\n",
    "        s=pow(n,0.5)\n",
    "        return s\n",
    "print(squareroot(25))\n",
    "print(squareroot(36))"
   ]
  }
 ],
 "metadata": {
  "kernelspec": {
   "display_name": "Python 3",
   "language": "python",
   "name": "python3"
  },
  "language_info": {
   "codemirror_mode": {
    "name": "ipython",
    "version": 3
   },
   "file_extension": ".py",
   "mimetype": "text/x-python",
   "name": "python",
   "nbconvert_exporter": "python",
   "pygments_lexer": "ipython3",
   "version": "3.7.3"
  }
 },
 "nbformat": 4,
 "nbformat_minor": 2
}
