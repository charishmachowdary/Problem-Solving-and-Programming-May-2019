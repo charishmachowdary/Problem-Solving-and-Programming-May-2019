{
 "cells": [
  {
   "cell_type": "markdown",
   "metadata": {},
   "source": [
    "## Problem Sloving And Programming\n",
    "## charishma.G\n",
    "## 221710308020\n",
    "## Day 12\n",
    "## 15-05-2019\n",
    "## Day Outcomes¶\n",
    "* Objective 1\n",
    "* Objective 2\n",
    "* Objective 3"
   ]
  },
  {
   "cell_type": "markdown",
   "metadata": {},
   "source": [
    "## problem 1\n",
    "## Regular Expression\n",
    "## problem statement\n",
    "set of all possible values that satify given patten 0123456789 [0-9] [a-z] [A-Z]"
   ]
  },
  {
   "cell_type": "code",
   "execution_count": 1,
   "metadata": {},
   "outputs": [
    {
     "name": "stdout",
     "output_type": "stream",
     "text": [
      "donot match\n"
     ]
    }
   ],
   "source": [
    "import re\n",
    "patten='^[1-9][0-9]{5}$'\n",
    "domain='5000057'\n",
    "if re.match(patten,domain):\n",
    "    print('match')\n",
    "else:\n",
    "    print('donot match')"
   ]
  },
  {
   "cell_type": "code",
   "execution_count": null,
   "metadata": {},
   "outputs": [],
   "source": []
  },
  {
   "cell_type": "markdown",
   "metadata": {},
   "source": [
    "## problem 2\n",
    "\n",
    " ## packages and modules"
   ]
  },
  {
   "cell_type": "code",
   "execution_count": 2,
   "metadata": {},
   "outputs": [
    {
     "name": "stdout",
     "output_type": "stream",
     "text": [
      "720\n",
      "15\n"
     ]
    }
   ],
   "source": [
    "import ps.test\n",
    "print(ps.test.fact(6))\n",
    "print(ps.test.sum(5))"
   ]
  },
  {
   "cell_type": "code",
   "execution_count": null,
   "metadata": {},
   "outputs": [],
   "source": []
  }
 ],
 "metadata": {
  "kernelspec": {
   "display_name": "Python 3",
   "language": "python",
   "name": "python3"
  },
  "language_info": {
   "codemirror_mode": {
    "name": "ipython",
    "version": 3
   },
   "file_extension": ".py",
   "mimetype": "text/x-python",
   "name": "python",
   "nbconvert_exporter": "python",
   "pygments_lexer": "ipython3",
   "version": "3.7.3"
  }
 },
 "nbformat": 4,
 "nbformat_minor": 2
}
