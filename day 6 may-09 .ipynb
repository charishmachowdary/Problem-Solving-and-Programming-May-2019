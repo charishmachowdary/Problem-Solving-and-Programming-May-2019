{
 "cells": [
  {
   "cell_type": "markdown",
   "metadata": {},
   "source": [
    "# Problem Sloving And Programming\n",
    "# charishma.G\n",
    "# 221710308020\n",
    "## Day 6\n",
    "## 09-05-2019\n",
    "## Day Outcomes\n",
    "1. Objective 1\n",
    "2. Objective 2\n",
    "3. Objective 3"
   ]
  },
  {
   "cell_type": "code",
   "execution_count": null,
   "metadata": {},
   "outputs": [],
   "source": []
  },
  {
   "cell_type": "markdown",
   "metadata": {},
   "source": [
    "# problem1\n",
    "## problem statement\n",
    "Given 2 int values, return True if one is negative and one is positive. Except if the parameter is True, then return True only if both are negative.\n",
    "### constrains\n",
    "\n",
    "### Test Cases\n",
    "* pos_neg(1, -1, False) → True\n",
    "* pos_neg(-1, 1, False) → True\n",
    "* pos_neg(-4, -5, True) → True\n",
    "* pos_neg(-1,1, true)->false\n",
    "* pos_neg(1,6,true)->false\n",
    "* pos_neg(-1,-9,false)->false"
   ]
  },
  {
   "cell_type": "code",
   "execution_count": null,
   "metadata": {},
   "outputs": [],
   "source": []
  },
  {
   "cell_type": "code",
   "execution_count": 8,
   "metadata": {},
   "outputs": [
    {
     "name": "stdout",
     "output_type": "stream",
     "text": [
      "True\n",
      "True\n",
      "True\n",
      "False\n",
      "False\n",
      "False\n"
     ]
    }
   ],
   "source": [
    "def pos_neg(n1,n2,b):\n",
    "    if(n1<0 and n2>0 and b==False) or (n1>0 and n2<0 and b==False ) or (n1<0 and n2<0 and b==True):\n",
    "        return True\n",
    "    else:\n",
    "        return False\n",
    "print(pos_neg(1, -1, False))\n",
    "print(pos_neg(-1, 1, False))\n",
    "print(pos_neg(-4, -5, True))\n",
    "print(pos_neg(-1,1, True))\n",
    "print(pos_neg(1,6,True))\n",
    "print(pos_neg(-1,-9,False))"
   ]
  },
  {
   "cell_type": "code",
   "execution_count": null,
   "metadata": {},
   "outputs": [],
   "source": []
  },
  {
   "cell_type": "markdown",
   "metadata": {},
   "source": [
    "# problem 2\n",
    "\n",
    "## problem statement\n",
    "Create a Random Number Generator as a Procedure which takes the Range(lb, ub) and returns a Random number in the given range\n",
    "\n",
    "## constrains\n",
    "\n",
    "## Test cases\n",
    "\n",
    "Test case 1. random generator(1,100)-will be in range(1,100)"
   ]
  },
  {
   "cell_type": "code",
   "execution_count": null,
   "metadata": {},
   "outputs": [],
   "source": []
  },
  {
   "cell_type": "code",
   "execution_count": 31,
   "metadata": {},
   "outputs": [
    {
     "name": "stdout",
     "output_type": "stream",
     "text": [
      "32\n"
     ]
    }
   ],
   "source": [
    "import random\n",
    "def randomgenerator(lb,ub):\n",
    "    return random.randint(lb+1,ub)\n",
    "print(randomgenerator(1,101))"
   ]
  },
  {
   "cell_type": "markdown",
   "metadata": {},
   "source": [
    "\n"
   ]
  },
  {
   "cell_type": "code",
   "execution_count": 12,
   "metadata": {},
   "outputs": [
    {
     "ename": "SyntaxError",
     "evalue": "invalid syntax (<ipython-input-12-82071a18a934>, line 2)",
     "output_type": "error",
     "traceback": [
      "\u001b[1;36m  File \u001b[1;32m\"<ipython-input-12-82071a18a934>\"\u001b[1;36m, line \u001b[1;32m2\u001b[0m\n\u001b[1;33m    def sumrandomnumbers(n,1b,ub):\u001b[0m\n\u001b[1;37m                           ^\u001b[0m\n\u001b[1;31mSyntaxError\u001b[0m\u001b[1;31m:\u001b[0m invalid syntax\n"
     ]
    }
   ],
   "source": [
    "\n"
   ]
  },
  {
   "cell_type": "markdown",
   "metadata": {},
   "source": [
    "# problem 3\n",
    "## problem statement\n",
    "Design a procedure to perform Linear search on list of N unsorted numbers. It take an array and the key element to be searched and returns the index of the element of key element if found. Else returns -1\n",
    "## constrains\n",
    "## Test cases\n",
    "* linearsearch([1,4,8,0,3,5,6],3)->4\n",
    "* linearsearch([15,12,9,6,3,-3],0)->-1\n",
    "* linearsearch([32,543,567,789],567)->2"
   ]
  },
  {
   "cell_type": "code",
   "execution_count": 14,
   "metadata": {},
   "outputs": [
    {
     "ename": "SyntaxError",
     "evalue": "invalid syntax (<ipython-input-14-0464762c0757>, line 1)",
     "output_type": "error",
     "traceback": [
      "\u001b[1;36m  File \u001b[1;32m\"<ipython-input-14-0464762c0757>\"\u001b[1;36m, line \u001b[1;32m1\u001b[0m\n\u001b[1;33m    * linearsearch([1,4,8,0,3,5,6],3)->4\u001b[0m\n\u001b[1;37m                                      ^\u001b[0m\n\u001b[1;31mSyntaxError\u001b[0m\u001b[1;31m:\u001b[0m invalid syntax\n"
     ]
    }
   ],
   "source": []
  },
  {
   "cell_type": "code",
   "execution_count": 23,
   "metadata": {},
   "outputs": [
    {
     "name": "stdout",
     "output_type": "stream",
     "text": [
      "-1\n",
      "2\n"
     ]
    }
   ],
   "source": [
    "def linearsearch(a,key):\n",
    "    for i in range(0,len(a)):\n",
    "        if(a[i]==key):\n",
    "            return i\n",
    "    return -1\n",
    "    \n",
    "print(linearsearch([15,12,9,6,3,-3],0))\n",
    "print(linearsearch([132,543,567,789],567))"
   ]
  },
  {
   "cell_type": "markdown",
   "metadata": {},
   "source": [
    "# problem 4\n",
    "## problem statement\n",
    "Given 2 ints, a and b, return True if one if them is 10 or if their sum is 10\n",
    "## constrains\n",
    "## Test cases\n",
    "* makes10(9, 10) → True\n",
    "* makes10(9, 9) → False\n",
    "* makes10(1, 9) → True"
   ]
  },
  {
   "cell_type": "code",
   "execution_count": 28,
   "metadata": {},
   "outputs": [
    {
     "name": "stdout",
     "output_type": "stream",
     "text": [
      "True\n",
      "False\n",
      "True\n"
     ]
    }
   ],
   "source": [
    "def makes10(a,b):\n",
    "    if(a+b==10 or a==10 or b==10):\n",
    "        return True\n",
    "    return False\n",
    "print(makes10(9, 10))\n",
    "print(makes10(9,9))\n",
    "print(makes10(1,9))\n",
    "\n"
   ]
  },
  {
   "cell_type": "code",
   "execution_count": null,
   "metadata": {},
   "outputs": [],
   "source": []
  },
  {
   "cell_type": "markdown",
   "metadata": {},
   "source": [
    "## problem 5\n",
    "### problem statement\n",
    "Determining whether a number is Even or Odd\n",
    "### constrains\n",
    "### Test cases\n",
    "* test case1. even\n",
    "* test case2.odd"
   ]
  },
  {
   "cell_type": "code",
   "execution_count": 34,
   "metadata": {},
   "outputs": [
    {
     "name": "stdout",
     "output_type": "stream",
     "text": [
      "True\n",
      "False\n"
     ]
    }
   ],
   "source": [
    "def even_odd(n1):\n",
    "    if(n1%2==0):\n",
    "        return True\n",
    "    return False\n",
    "print(even_odd(2))\n",
    "print(even_odd(5))"
   ]
  },
  {
   "cell_type": "code",
   "execution_count": null,
   "metadata": {},
   "outputs": [],
   "source": []
  },
  {
   "cell_type": "markdown",
   "metadata": {},
   "source": [
    "# #problem 6\n",
    "### problem statement\n",
    "Finding the greatest of 3 numbers\n",
    "### constrains\n",
    "### Test cases\n",
    "* 1. first no is greater\n",
    "* 2. secound no is greater\n",
    "* 3. third no is greater"
   ]
  },
  {
   "cell_type": "code",
   "execution_count": 55,
   "metadata": {},
   "outputs": [
    {
     "name": "stdout",
     "output_type": "stream",
     "text": [
      "56\n",
      "30\n"
     ]
    }
   ],
   "source": [
    "def greater(n1,n2,n3):\n",
    "    if(n1>n2 and n1>n3):\n",
    "        return n1\n",
    "    if(n2>n1 and n2>n3):\n",
    "        return n2\n",
    "    if(n3>n2 and n3>n1):\n",
    "        return n3\n",
    "print(greater(22,4,56))\n",
    "print(greater(10,20,30))\n",
    "    "
   ]
  },
  {
   "cell_type": "code",
   "execution_count": null,
   "metadata": {},
   "outputs": [],
   "source": []
  },
  {
   "cell_type": "markdown",
   "metadata": {},
   "source": [
    "## problem 7\n",
    "### problem statement\n",
    "Designing procedures for Basic Arithmetic operations\n",
    "### constrains\n",
    "### Test cases\n",
    "* 1. addition(a+b)\n",
    "* 2. subtraction(a-b)\n",
    "* 3. multiplication(a*b)\n",
    "* 4. division(a/b)"
   ]
  },
  {
   "cell_type": "code",
   "execution_count": 26,
   "metadata": {},
   "outputs": [
    {
     "name": "stdout",
     "output_type": "stream",
     "text": [
      "13\n",
      "-2\n",
      "99\n",
      "0.25\n"
     ]
    }
   ],
   "source": [
    "def operations(a,b,ope):\n",
    "    if(ope=='+'):\n",
    "        return (a+b)\n",
    "    if(ope=='-'):\n",
    "        return (a-b)\n",
    "    if(ope=='*'):\n",
    "        return (a*b)\n",
    "    if(ope=='/'):\n",
    "        return (a/b)\n",
    "    else:\n",
    "        return ('invalid operation')\n",
    "print(operations(6,7,'+'))\n",
    "print(operations(7,9,'-'))\n",
    "print(operations(11,9,'*'))\n",
    "print(operations(6,24,'/'))\n"
   ]
  },
  {
   "cell_type": "code",
   "execution_count": null,
   "metadata": {},
   "outputs": [],
   "source": []
  },
  {
   "cell_type": "markdown",
   "metadata": {},
   "source": [
    "## problem 8\n",
    "### problem statement\n",
    "Testing Divisibility with 2 and 3 but not 4\n",
    "### constrains\n",
    "\n",
    "### Test cases\n",
    "* Test case 1: checkdivisibility(6)->True\n",
    "* Test case 2: checkdivisibility(16)->False\n",
    "* Test case 3: checkdivisibility(20)->False"
   ]
  },
  {
   "cell_type": "code",
   "execution_count": 28,
   "metadata": {},
   "outputs": [
    {
     "data": {
      "text/plain": [
       "True"
      ]
     },
     "execution_count": 28,
     "metadata": {},
     "output_type": "execute_result"
    }
   ],
   "source": [
    "def checkdivisibility(n):\n",
    "    if n%2==0 and n%3==0 and n%4!=0:\n",
    "       return True\n",
    "    else:\n",
    "        return False\n",
    "checkdivisibility(6)"
   ]
  },
  {
   "cell_type": "code",
   "execution_count": null,
   "metadata": {},
   "outputs": [],
   "source": []
  },
  {
   "cell_type": "markdown",
   "metadata": {},
   "source": [
    "## problem 9\n",
    "### problem statement\n",
    "Design a flowchart to evaluate the polynomial\n",
    "f(x)= x^3 + 2 X^2 + 3 X - 10 \n",
    "### constrains\n",
    "for x in the range [1, 1000000]\n",
    "### Test cases\n",
    "* testcase1. quadfunc()\n",
    "* testcase2. quadfunc()\n",
    "\n",
    "\n"
   ]
  },
  {
   "cell_type": "code",
   "execution_count": 32,
   "metadata": {},
   "outputs": [
    {
     "name": "stdout",
     "output_type": "stream",
     "text": [
      "x= 375\n",
      "53016740\n",
      "x= 96\n",
      "903446\n"
     ]
    }
   ],
   "source": [
    "import random\n",
    "def quadfunc():\n",
    "    x=random.randrange(1,1000)\n",
    "    value=((x**3)+(2*x**2)+(3*x)-10)\n",
    "    print(\"x=\",x)\n",
    "    return value\n",
    "\n",
    "print(quadfunc())\n",
    "print(quadfunc())"
   ]
  }
 ],
 "metadata": {
  "kernelspec": {
   "display_name": "Python 3",
   "language": "python",
   "name": "python3"
  },
  "language_info": {
   "codemirror_mode": {
    "name": "ipython",
    "version": 3
   },
   "file_extension": ".py",
   "mimetype": "text/x-python",
   "name": "python",
   "nbconvert_exporter": "python",
   "pygments_lexer": "ipython3",
   "version": "3.7.3"
  }
 },
 "nbformat": 4,
 "nbformat_minor": 2
}
