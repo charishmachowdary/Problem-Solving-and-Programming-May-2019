{
 "cells": [
  {
   "cell_type": "markdown",
   "metadata": {},
   "source": [
    "# Problem Solving And Programming\n",
    "## charishma.G\n",
    "## 221710308020\n",
    "## Day 10\n",
    "## 11-05-2019\n",
    "## Day Outcomes\n",
    "* Objective 1\n",
    "* objective 2\n",
    "* Objective 3"
   ]
  },
  {
   "cell_type": "markdown",
   "metadata": {},
   "source": [
    "## problem 1\n",
    "## problem statement\n",
    " You are given n words. Some words may repeat. For each word, output its number of occurrences. The output order should correspond with the input order of appearance of the word \n",
    " \n",
    " ## Test cases\n",
    " * abcd\n",
    "\n",
    "* ijkl\n",
    "\n",
    "* abcd\n",
    "\n",
    "* pqrs\n",
    "\n",
    "* abcd\n",
    "\n",
    "* ijkl"
   ]
  },
  {
   "cell_type": "code",
   "execution_count": 2,
   "metadata": {},
   "outputs": [
    {
     "name": "stdout",
     "output_type": "stream",
     "text": [
      "5\n",
      "2 2 2 2 2 "
     ]
    }
   ],
   "source": [
    "def uniq_ele(le,b):\n",
    "    uni =[]\n",
    "    uni.append(b[0])\n",
    "    index = 0\n",
    "    for i in range(len(b)):\n",
    "        if(whether(b[i],uni)==True):\n",
    "            uni.append(b[i])\n",
    "    print(len(uni))\n",
    "    for i in range(len(uni)):\n",
    "            unic(uni[i],b)\n",
    "def whether(c,uni):\n",
    "    for j in range(len(uni)):\n",
    "        if(uni[j]==c):\n",
    "            return False\n",
    "        return True\n",
    "def unic(c,b):\n",
    "    frq = 0\n",
    "    for i in range(len(b)):\n",
    "        if(b[i] == c):\n",
    "            frq = frq+1   \n",
    "    print(frq, end=\" \")\n",
    "\n",
    "b = ['a','b','c','a','b','c']\n",
    "uniq_ele(len(b),b)"
   ]
  },
  {
   "cell_type": "code",
   "execution_count": null,
   "metadata": {},
   "outputs": [],
   "source": []
  },
  {
   "cell_type": "markdown",
   "metadata": {},
   "source": [
    "## problem 2\n",
    "## problem statement \n",
    "Define a function to print the sequence of spiral pattern elements for a given N x N matrix\n",
    "## Testcases\n",
    "* spiralPattern([[1,2,3], [4,5,6], [7,8,9]]) -> 1 2 3 6 9 8 7 4 5\n"
   ]
  },
  {
   "cell_type": "code",
   "execution_count": 1,
   "metadata": {},
   "outputs": [
    {
     "name": "stdout",
     "output_type": "stream",
     "text": [
      "1 2 3 6 9 8 7 4 5 "
     ]
    }
   ],
   "source": [
    "\n",
    "def spiralPattern(a):\n",
    "    if len(a)%2==0:\n",
    "        n=len(a)\n",
    "    else:\n",
    "        n=len(a)+1\n",
    "    j=0\n",
    "    k=1\n",
    "    while(n!=0):\n",
    "        for i in range(j,len(a[j])-k):\n",
    "            print(a[j][i],end=' ')\n",
    "        for i in range(j,len(a)-k):\n",
    "            print(a[i][len(a[j])-k],end=' ')\n",
    "        for i in range(len(a[j])-k,j,-1):\n",
    "            print(a[len(a)-k][i],end=' ')\n",
    "        for i in range(len(a)-k,j,-1):\n",
    "            print(a[i][j],end=' ')\n",
    "        n=n-2\n",
    "        j=j+1\n",
    "        k=k+1\n",
    "    if(len(a)%2==1):\n",
    "        print(a[len(a)//2][len(a)//2],end=' ')\n",
    "spiralPattern([[1,2,3], [4,5,6], [7,8,9]])\n"
   ]
  }
 ],
 "metadata": {
  "kernelspec": {
   "display_name": "Python 3",
   "language": "python",
   "name": "python3"
  },
  "language_info": {
   "codemirror_mode": {
    "name": "ipython",
    "version": 3
   },
   "file_extension": ".py",
   "mimetype": "text/x-python",
   "name": "python",
   "nbconvert_exporter": "python",
   "pygments_lexer": "ipython3",
   "version": "3.7.3"
  }
 },
 "nbformat": 4,
 "nbformat_minor": 2
}
