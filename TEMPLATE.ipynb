{
 "cells": [
  {
   "cell_type": "markdown",
   "metadata": {},
   "source": [
    "# problem solving and programming\n",
    "# charishma.G\n",
    "### day5\n",
    "### 08-05-19\n"
   ]
  },
  {
   "cell_type": "markdown",
   "metadata": {},
   "source": [
    "# Day Objective\n",
    "1. odjective 1\n",
    "2. objective 2\n",
    "3. objective 3\n",
    "4. objective 4"
   ]
  },
  {
   "cell_type": "markdown",
   "metadata": {},
   "source": [
    "\n",
    "## problem 1:\n",
    "### problem statement\n",
    "\n",
    "### constrains\n",
    "\n",
    "### test cases\n",
    "1. test case 1\n",
    "2. test case 2\n",
    "3. test case 3"
   ]
  },
  {
   "cell_type": "markdown",
   "metadata": {},
   "source": [
    "### problem 1:\n",
    "### problem statement\n",
    "for given numbers define function check if it is divided by 2 and 3 but not 4\n",
    "### constrains\n",
    "given number will be in range [1,000000000]\n",
    "\n",
    "### test case\n",
    "* Test case 1: checkdivisibility(6)->True\n",
    "* Test case 2: checkdivisibility(16)->False\n",
    "* Test case 3: checkdivisibility(20)->False"
   ]
  },
  {
   "cell_type": "code",
   "execution_count": 1,
   "metadata": {},
   "outputs": [
    {
     "data": {
      "text/plain": [
       "True"
      ]
     },
     "execution_count": 1,
     "metadata": {},
     "output_type": "execute_result"
    }
   ],
   "source": [
    "def checkdivisibility(n):\n",
    "    if n%2==0 and n%3==0 and n%4!=0:\n",
    "       return True\n",
    "    else:\n",
    "        return False\n",
    "    \n",
    "checkdivisibility(6)"
   ]
  }
 ],
 "metadata": {
  "kernelspec": {
   "display_name": "Python 3",
   "language": "python",
   "name": "python3"
  },
  "language_info": {
   "codemirror_mode": {
    "name": "ipython",
    "version": 3
   },
   "file_extension": ".py",
   "mimetype": "text/x-python",
   "name": "python",
   "nbconvert_exporter": "python",
   "pygments_lexer": "ipython3",
   "version": "3.7.3"
  }
 },
 "nbformat": 4,
 "nbformat_minor": 2
}
